{
 "cells": [
  {
   "cell_type": "markdown",
   "metadata": {},
   "source": [
    "# Second Analysis: Using Cross validation (10 fold cross validation )\n",
    "# Part 1 "
   ]
  },
  {
   "cell_type": "code",
   "execution_count": 1,
   "metadata": {},
   "outputs": [],
   "source": [
    "import numpy as np \n",
    "import pandas as pd \n",
    "import matplotlib.pyplot as plt\n",
    "import seaborn as sns \n",
    "import warnings\n",
    "warnings.filterwarnings('ignore')\n",
    "%matplotlib inline "
   ]
  },
  {
   "cell_type": "code",
   "execution_count": 2,
   "metadata": {
    "scrolled": true
   },
   "outputs": [
    {
     "name": "stdout",
     "output_type": "stream",
     "text": [
      "Shape of the data :  (569, 33)\n"
     ]
    },
    {
     "data": {
      "text/html": [
       "<div>\n",
       "<style scoped>\n",
       "    .dataframe tbody tr th:only-of-type {\n",
       "        vertical-align: middle;\n",
       "    }\n",
       "\n",
       "    .dataframe tbody tr th {\n",
       "        vertical-align: top;\n",
       "    }\n",
       "\n",
       "    .dataframe thead th {\n",
       "        text-align: right;\n",
       "    }\n",
       "</style>\n",
       "<table border=\"1\" class=\"dataframe\">\n",
       "  <thead>\n",
       "    <tr style=\"text-align: right;\">\n",
       "      <th></th>\n",
       "      <th>id</th>\n",
       "      <th>diagnosis</th>\n",
       "      <th>radius_mean</th>\n",
       "      <th>texture_mean</th>\n",
       "      <th>perimeter_mean</th>\n",
       "      <th>area_mean</th>\n",
       "      <th>smoothness_mean</th>\n",
       "      <th>compactness_mean</th>\n",
       "      <th>concavity_mean</th>\n",
       "      <th>concave points_mean</th>\n",
       "      <th>...</th>\n",
       "      <th>texture_worst</th>\n",
       "      <th>perimeter_worst</th>\n",
       "      <th>area_worst</th>\n",
       "      <th>smoothness_worst</th>\n",
       "      <th>compactness_worst</th>\n",
       "      <th>concavity_worst</th>\n",
       "      <th>concave points_worst</th>\n",
       "      <th>symmetry_worst</th>\n",
       "      <th>fractal_dimension_worst</th>\n",
       "      <th>Unnamed: 32</th>\n",
       "    </tr>\n",
       "  </thead>\n",
       "  <tbody>\n",
       "    <tr>\n",
       "      <th>0</th>\n",
       "      <td>842302</td>\n",
       "      <td>M</td>\n",
       "      <td>17.99</td>\n",
       "      <td>10.38</td>\n",
       "      <td>122.80</td>\n",
       "      <td>1001.0</td>\n",
       "      <td>0.11840</td>\n",
       "      <td>0.27760</td>\n",
       "      <td>0.3001</td>\n",
       "      <td>0.14710</td>\n",
       "      <td>...</td>\n",
       "      <td>17.33</td>\n",
       "      <td>184.60</td>\n",
       "      <td>2019.0</td>\n",
       "      <td>0.1622</td>\n",
       "      <td>0.6656</td>\n",
       "      <td>0.7119</td>\n",
       "      <td>0.2654</td>\n",
       "      <td>0.4601</td>\n",
       "      <td>0.11890</td>\n",
       "      <td>NaN</td>\n",
       "    </tr>\n",
       "    <tr>\n",
       "      <th>1</th>\n",
       "      <td>842517</td>\n",
       "      <td>M</td>\n",
       "      <td>20.57</td>\n",
       "      <td>17.77</td>\n",
       "      <td>132.90</td>\n",
       "      <td>1326.0</td>\n",
       "      <td>0.08474</td>\n",
       "      <td>0.07864</td>\n",
       "      <td>0.0869</td>\n",
       "      <td>0.07017</td>\n",
       "      <td>...</td>\n",
       "      <td>23.41</td>\n",
       "      <td>158.80</td>\n",
       "      <td>1956.0</td>\n",
       "      <td>0.1238</td>\n",
       "      <td>0.1866</td>\n",
       "      <td>0.2416</td>\n",
       "      <td>0.1860</td>\n",
       "      <td>0.2750</td>\n",
       "      <td>0.08902</td>\n",
       "      <td>NaN</td>\n",
       "    </tr>\n",
       "    <tr>\n",
       "      <th>2</th>\n",
       "      <td>84300903</td>\n",
       "      <td>M</td>\n",
       "      <td>19.69</td>\n",
       "      <td>21.25</td>\n",
       "      <td>130.00</td>\n",
       "      <td>1203.0</td>\n",
       "      <td>0.10960</td>\n",
       "      <td>0.15990</td>\n",
       "      <td>0.1974</td>\n",
       "      <td>0.12790</td>\n",
       "      <td>...</td>\n",
       "      <td>25.53</td>\n",
       "      <td>152.50</td>\n",
       "      <td>1709.0</td>\n",
       "      <td>0.1444</td>\n",
       "      <td>0.4245</td>\n",
       "      <td>0.4504</td>\n",
       "      <td>0.2430</td>\n",
       "      <td>0.3613</td>\n",
       "      <td>0.08758</td>\n",
       "      <td>NaN</td>\n",
       "    </tr>\n",
       "    <tr>\n",
       "      <th>3</th>\n",
       "      <td>84348301</td>\n",
       "      <td>M</td>\n",
       "      <td>11.42</td>\n",
       "      <td>20.38</td>\n",
       "      <td>77.58</td>\n",
       "      <td>386.1</td>\n",
       "      <td>0.14250</td>\n",
       "      <td>0.28390</td>\n",
       "      <td>0.2414</td>\n",
       "      <td>0.10520</td>\n",
       "      <td>...</td>\n",
       "      <td>26.50</td>\n",
       "      <td>98.87</td>\n",
       "      <td>567.7</td>\n",
       "      <td>0.2098</td>\n",
       "      <td>0.8663</td>\n",
       "      <td>0.6869</td>\n",
       "      <td>0.2575</td>\n",
       "      <td>0.6638</td>\n",
       "      <td>0.17300</td>\n",
       "      <td>NaN</td>\n",
       "    </tr>\n",
       "    <tr>\n",
       "      <th>4</th>\n",
       "      <td>84358402</td>\n",
       "      <td>M</td>\n",
       "      <td>20.29</td>\n",
       "      <td>14.34</td>\n",
       "      <td>135.10</td>\n",
       "      <td>1297.0</td>\n",
       "      <td>0.10030</td>\n",
       "      <td>0.13280</td>\n",
       "      <td>0.1980</td>\n",
       "      <td>0.10430</td>\n",
       "      <td>...</td>\n",
       "      <td>16.67</td>\n",
       "      <td>152.20</td>\n",
       "      <td>1575.0</td>\n",
       "      <td>0.1374</td>\n",
       "      <td>0.2050</td>\n",
       "      <td>0.4000</td>\n",
       "      <td>0.1625</td>\n",
       "      <td>0.2364</td>\n",
       "      <td>0.07678</td>\n",
       "      <td>NaN</td>\n",
       "    </tr>\n",
       "  </tbody>\n",
       "</table>\n",
       "<p>5 rows × 33 columns</p>\n",
       "</div>"
      ],
      "text/plain": [
       "         id diagnosis  radius_mean  texture_mean  perimeter_mean  area_mean  \\\n",
       "0    842302         M        17.99         10.38          122.80     1001.0   \n",
       "1    842517         M        20.57         17.77          132.90     1326.0   \n",
       "2  84300903         M        19.69         21.25          130.00     1203.0   \n",
       "3  84348301         M        11.42         20.38           77.58      386.1   \n",
       "4  84358402         M        20.29         14.34          135.10     1297.0   \n",
       "\n",
       "   smoothness_mean  compactness_mean  concavity_mean  concave points_mean  \\\n",
       "0          0.11840           0.27760          0.3001              0.14710   \n",
       "1          0.08474           0.07864          0.0869              0.07017   \n",
       "2          0.10960           0.15990          0.1974              0.12790   \n",
       "3          0.14250           0.28390          0.2414              0.10520   \n",
       "4          0.10030           0.13280          0.1980              0.10430   \n",
       "\n",
       "   ...  texture_worst  perimeter_worst  area_worst  smoothness_worst  \\\n",
       "0  ...          17.33           184.60      2019.0            0.1622   \n",
       "1  ...          23.41           158.80      1956.0            0.1238   \n",
       "2  ...          25.53           152.50      1709.0            0.1444   \n",
       "3  ...          26.50            98.87       567.7            0.2098   \n",
       "4  ...          16.67           152.20      1575.0            0.1374   \n",
       "\n",
       "   compactness_worst  concavity_worst  concave points_worst  symmetry_worst  \\\n",
       "0             0.6656           0.7119                0.2654          0.4601   \n",
       "1             0.1866           0.2416                0.1860          0.2750   \n",
       "2             0.4245           0.4504                0.2430          0.3613   \n",
       "3             0.8663           0.6869                0.2575          0.6638   \n",
       "4             0.2050           0.4000                0.1625          0.2364   \n",
       "\n",
       "   fractal_dimension_worst  Unnamed: 32  \n",
       "0                  0.11890          NaN  \n",
       "1                  0.08902          NaN  \n",
       "2                  0.08758          NaN  \n",
       "3                  0.17300          NaN  \n",
       "4                  0.07678          NaN  \n",
       "\n",
       "[5 rows x 33 columns]"
      ]
     },
     "execution_count": 2,
     "metadata": {},
     "output_type": "execute_result"
    }
   ],
   "source": [
    "df = pd.read_csv(\"data.csv\")\n",
    "cancer_df = df.copy()    # CREATING A COPY OF THE ORIGINAL DATAFRAME\n",
    "print(\"Shape of the data : \" , cancer_df.shape )\n",
    "cancer_df.head(5 )\n"
   ]
  },
  {
   "cell_type": "markdown",
   "metadata": {},
   "source": [
    "# Preprocessing"
   ]
  },
  {
   "cell_type": "code",
   "execution_count": 3,
   "metadata": {},
   "outputs": [],
   "source": [
    "y = cancer_df.diagnosis.values \n",
    "\n",
    "cancer_df.drop([\"Unnamed: 32\" , \"id\", \"diagnosis\"] , axis = 1 , inplace= True ) \n",
    "X = cancer_df.values "
   ]
  },
  {
   "cell_type": "code",
   "execution_count": 4,
   "metadata": {},
   "outputs": [],
   "source": [
    "from sklearn.preprocessing import StandardScaler"
   ]
  },
  {
   "cell_type": "code",
   "execution_count": 5,
   "metadata": {},
   "outputs": [],
   "source": [
    "scaler = StandardScaler()\n",
    "scaler.fit(X )\n",
    "scaled_x = scaler.transform(X) \n",
    "# scaled_X is the new X "
   ]
  },
  {
   "cell_type": "markdown",
   "metadata": {},
   "source": [
    "# Cross Validation "
   ]
  },
  {
   "cell_type": "code",
   "execution_count": 6,
   "metadata": {},
   "outputs": [],
   "source": [
    "accuracy = []   # a list to store all accuracies "
   ]
  },
  {
   "cell_type": "code",
   "execution_count": 7,
   "metadata": {},
   "outputs": [],
   "source": [
    "from sklearn.model_selection import cross_val_predict\n",
    "from sklearn.linear_model import LogisticRegression \n",
    "from sklearn.metrics import accuracy_score , confusion_matrix , precision_score , recall_score , f1_score "
   ]
  },
  {
   "cell_type": "markdown",
   "metadata": {},
   "source": [
    "# Logistic Regression "
   ]
  },
  {
   "cell_type": "code",
   "execution_count": 8,
   "metadata": {},
   "outputs": [],
   "source": [
    "log_model = LogisticRegression(solver = \"liblinear\") "
   ]
  },
  {
   "cell_type": "code",
   "execution_count": 9,
   "metadata": {},
   "outputs": [],
   "source": [
    "y_pred = cross_val_predict(log_model , scaled_x , y , cv = 10 ) \n",
    "accuracy_log = round(accuracy_score(y , y_pred ) *100  , 2 ) \n",
    "accuracy.append(accuracy_log)\n",
    "confusion_matrix_log = confusion_matrix(y , y_pred )  \n",
    "precision_score_log = precision_score(y , y_pred , average= 'weighted') * 100\n",
    "recall_score_log = recall_score(y , y_pred,  average= 'weighted') * 100 \n",
    "f1_score_log = f1_score(y , y_pred , average = 'weighted')  * 100 "
   ]
  },
  {
   "cell_type": "code",
   "execution_count": 10,
   "metadata": {},
   "outputs": [
    {
     "name": "stdout",
     "output_type": "stream",
     "text": [
      "Confusion Matrix : \n",
      "[[354   3]\n",
      " [  7 205]]\n",
      "\n",
      "Precision score :  98.24602285047057\n",
      "Recall score :  98.24253075571178\n",
      "f1 score :  98.23905731205346\n"
     ]
    }
   ],
   "source": [
    "print (\"Confusion Matrix : \" , confusion_matrix_log , sep = '\\n'  , end = '\\n\\n') \n",
    "print(\"Precision score : \" , precision_score_log ) \n",
    "print(\"Recall score : \" ,  recall_score_log ) \n",
    "print(\"f1 score : \" , f1_score_log  )"
   ]
  },
  {
   "cell_type": "markdown",
   "metadata": {},
   "source": [
    "# Decision Tree "
   ]
  },
  {
   "cell_type": "code",
   "execution_count": 11,
   "metadata": {},
   "outputs": [],
   "source": [
    "from sklearn.tree import DecisionTreeClassifier "
   ]
  },
  {
   "cell_type": "code",
   "execution_count": 12,
   "metadata": {},
   "outputs": [
    {
     "name": "stdout",
     "output_type": "stream",
     "text": [
      "----  Depth : ----  3\n",
      "Accuracy Score :  93.32\n",
      "precision score :  93.32\n",
      "Recall score :  93.32\n",
      "f1 score :  93.32\n",
      "----  Depth : ----  4\n",
      "Accuracy Score :  93.5\n",
      "precision score :  93.48\n",
      "Recall score :  93.5\n",
      "f1 score :  93.48\n",
      "----  Depth : ----  5\n",
      "Accuracy Score :  93.85\n",
      "precision score :  93.86\n",
      "Recall score :  93.85\n",
      "f1 score :  93.85\n",
      "----  Depth : ----  6\n",
      "Accuracy Score :  92.97\n",
      "precision score :  93.03\n",
      "Recall score :  92.97\n",
      "f1 score :  92.99\n",
      "----  Depth : ----  7\n",
      "Accuracy Score :  93.15\n",
      "precision score :  93.17\n",
      "Recall score :  93.15\n",
      "f1 score :  93.16\n",
      "----  Depth : ----  8\n",
      "Accuracy Score :  93.15\n",
      "precision score :  93.17\n",
      "Recall score :  93.15\n",
      "f1 score :  93.16\n",
      "----  Depth : ----  9\n",
      "Accuracy Score :  93.15\n",
      "precision score :  93.17\n",
      "Recall score :  93.15\n",
      "f1 score :  93.16\n"
     ]
    }
   ],
   "source": [
    "depths = [i for i in range(3, 10 )]\n",
    "for depth in depths :\n",
    "    tree = DecisionTreeClassifier(criterion= \"entropy\" , max_depth= depth , random_state= 3 ) \n",
    "    y_pred = cross_val_predict(tree , scaled_x , y , cv = 10 ) \n",
    "    print (\"----  Depth : ---- \" , depth ) \n",
    "    print(\"Accuracy Score : \" , round(accuracy_score(y , y_pred ) * 100 , 2 )  )\n",
    "    print(\"precision score : \" , round(precision_score(y , y_pred , average ='weighted') * 100 , 2 ) )\n",
    "    print(\"Recall score : \" , round( recall_score(y , y_pred , average = 'weighted') * 100  , 2 ) )\n",
    "    print(\"f1 score : \" , round(f1_score(y , y_pred , average = \"weighted\") * 100  , 2 )) "
   ]
  },
  {
   "cell_type": "code",
   "execution_count": 13,
   "metadata": {},
   "outputs": [],
   "source": [
    "# for depth = 5 , accuracy using 10-fold cross validation is 93.85 % \n",
    "accuracy.append(93.85)"
   ]
  },
  {
   "cell_type": "markdown",
   "metadata": {},
   "source": [
    "# KNN "
   ]
  },
  {
   "cell_type": "code",
   "execution_count": 14,
   "metadata": {},
   "outputs": [],
   "source": [
    "from sklearn.neighbors import KNeighborsClassifier "
   ]
  },
  {
   "cell_type": "code",
   "execution_count": 15,
   "metadata": {},
   "outputs": [
    {
     "name": "stdout",
     "output_type": "stream",
     "text": [
      "---  k value : ---  2\n",
      "Accuracy Score :  95.61\n",
      "precision score :  95.84\n",
      "Recall score :  95.61\n",
      "f1 score :  95.55\n",
      "\n",
      "---  k value : ---  3\n",
      "Accuracy Score :  96.49\n",
      "precision score :  96.53\n",
      "Recall score :  96.49\n",
      "f1 score :  96.46\n",
      "\n",
      "---  k value : ---  4\n",
      "Accuracy Score :  96.49\n",
      "precision score :  96.59\n",
      "Recall score :  96.49\n",
      "f1 score :  96.45\n",
      "\n",
      "---  k value : ---  5\n",
      "Accuracy Score :  96.66\n",
      "precision score :  96.7\n",
      "Recall score :  96.66\n",
      "f1 score :  96.64\n",
      "\n",
      "---  k value : ---  6\n",
      "Accuracy Score :  96.49\n",
      "precision score :  96.59\n",
      "Recall score :  96.49\n",
      "f1 score :  96.45\n",
      "\n",
      "---  k value : ---  7\n",
      "Accuracy Score :  96.84\n",
      "precision score :  96.89\n",
      "Recall score :  96.84\n",
      "f1 score :  96.82\n",
      "\n",
      "---  k value : ---  8\n",
      "Accuracy Score :  96.49\n",
      "precision score :  96.63\n",
      "Recall score :  96.49\n",
      "f1 score :  96.45\n",
      "\n",
      "---  k value : ---  9\n",
      "Accuracy Score :  96.49\n",
      "precision score :  96.56\n",
      "Recall score :  96.49\n",
      "f1 score :  96.46\n",
      "\n",
      "---  k value : ---  10\n",
      "Accuracy Score :  96.49\n",
      "precision score :  96.59\n",
      "Recall score :  96.49\n",
      "f1 score :  96.45\n",
      "\n",
      "---  k value : ---  11\n",
      "Accuracy Score :  96.84\n",
      "precision score :  96.92\n",
      "Recall score :  96.84\n",
      "f1 score :  96.81\n",
      "\n",
      "---  k value : ---  12\n",
      "Accuracy Score :  96.13\n",
      "precision score :  96.27\n",
      "Recall score :  96.13\n",
      "f1 score :  96.1\n",
      "\n",
      "---  k value : ---  13\n",
      "Accuracy Score :  96.66\n",
      "precision score :  96.75\n",
      "Recall score :  96.66\n",
      "f1 score :  96.63\n",
      "\n",
      "---  k value : ---  14\n",
      "Accuracy Score :  95.96\n",
      "precision score :  96.11\n",
      "Recall score :  95.96\n",
      "f1 score :  95.92\n",
      "\n"
     ]
    }
   ],
   "source": [
    "for k in range(2, 15 ) :\n",
    "    knn  = KNeighborsClassifier(n_neighbors =  k ) \n",
    "    y_pred = cross_val_predict(knn , scaled_x , y , cv = 10 )\n",
    "    print(\"---  k value : --- \"  , k )\n",
    "    print(\"Accuracy Score : \" , round(accuracy_score(y , y_pred ) * 100 , 2 )  )\n",
    "    print(\"precision score : \" , round(precision_score(y , y_pred , average ='weighted') * 100 , 2 ) )\n",
    "    print(\"Recall score : \" , round( recall_score(y , y_pred , average = 'weighted') * 100  , 2 ) )\n",
    "    print(\"f1 score : \" , round(f1_score(y , y_pred , average = \"weighted\") * 100  , 2 ) ,end = '\\n\\n')     \n",
    "            "
   ]
  },
  {
   "cell_type": "code",
   "execution_count": 16,
   "metadata": {},
   "outputs": [],
   "source": [
    "# for k = 7 , using 10-fold cross validation we are getting an accuracy of 96.84\n",
    "accuracy.append(96.84)"
   ]
  },
  {
   "cell_type": "markdown",
   "metadata": {},
   "source": [
    "# Visualization \n"
   ]
  },
  {
   "cell_type": "code",
   "execution_count": 17,
   "metadata": {},
   "outputs": [],
   "source": [
    "prev_accuracy = [96.28, 94.15, 99.47]\n",
    "classification_model = [\"log_reg\" , \"Dec_tree\" , \"KNN\"]"
   ]
  },
  {
   "cell_type": "code",
   "execution_count": 18,
   "metadata": {},
   "outputs": [
    {
     "data": {
      "text/html": [
       "<div>\n",
       "<style scoped>\n",
       "    .dataframe tbody tr th:only-of-type {\n",
       "        vertical-align: middle;\n",
       "    }\n",
       "\n",
       "    .dataframe tbody tr th {\n",
       "        vertical-align: top;\n",
       "    }\n",
       "\n",
       "    .dataframe thead th {\n",
       "        text-align: right;\n",
       "    }\n",
       "</style>\n",
       "<table border=\"1\" class=\"dataframe\">\n",
       "  <thead>\n",
       "    <tr style=\"text-align: right;\">\n",
       "      <th></th>\n",
       "      <th>classification_model</th>\n",
       "      <th>Using cross Validation</th>\n",
       "      <th>No cross validation</th>\n",
       "    </tr>\n",
       "  </thead>\n",
       "  <tbody>\n",
       "    <tr>\n",
       "      <th>0</th>\n",
       "      <td>log_reg</td>\n",
       "      <td>98.24</td>\n",
       "      <td>96.28</td>\n",
       "    </tr>\n",
       "    <tr>\n",
       "      <th>1</th>\n",
       "      <td>Dec_tree</td>\n",
       "      <td>93.85</td>\n",
       "      <td>94.15</td>\n",
       "    </tr>\n",
       "    <tr>\n",
       "      <th>2</th>\n",
       "      <td>KNN</td>\n",
       "      <td>96.84</td>\n",
       "      <td>99.47</td>\n",
       "    </tr>\n",
       "  </tbody>\n",
       "</table>\n",
       "</div>"
      ],
      "text/plain": [
       "  classification_model  Using cross Validation  No cross validation\n",
       "0              log_reg                   98.24                96.28\n",
       "1             Dec_tree                   93.85                94.15\n",
       "2                  KNN                   96.84                99.47"
      ]
     },
     "execution_count": 18,
     "metadata": {},
     "output_type": "execute_result"
    }
   ],
   "source": [
    "test_df = pd.DataFrame({\"classification_model\" : classification_model , \"Using cross Validation\" : accuracy , \"No cross validation\" : prev_accuracy})\n",
    "test_df "
   ]
  },
  {
   "cell_type": "code",
   "execution_count": 19,
   "metadata": {
    "scrolled": true
   },
   "outputs": [
    {
     "data": {
      "image/png": "[encoded data removed]",
      "text/plain": [
       "<Figure size 576x360 with 1 Axes>"
      ]
     },
     "metadata": {
      "needs_background": "light"
     },
     "output_type": "display_data"
    }
   ],
   "source": [
    "plt.figure(figsize= (8,5 ))\n",
    "plt.plot(classification_model , prev_accuracy , marker = \"*\" , label = \"No cross validation \")\n",
    "plt.plot(classification_model , accuracy , marker = \"*\" , label = \"Using cross validation\" , color = \"magenta\")\n",
    "plt.ylabel(\"Accuracy\" , color = \"green\" , fontsize = 20 )\n",
    "plt.xticks(color = \"red\" , fontsize = 15 , rotation = 20 )\n",
    "plt.grid(True)\n",
    "plt.legend()\n",
    "plt.savefig(\"second_ana1.png\")\n",
    "plt.show()"
   ]
  },
  {
   "cell_type": "markdown",
   "metadata": {},
   "source": [
    "<h1 style = \"color : green\">Support vector Machine Classifier </h1>\n",
    "\n",
    "# Part 2 "
   ]
  },
  {
   "cell_type": "code",
   "execution_count": 20,
   "metadata": {},
   "outputs": [],
   "source": [
    "from sklearn.svm import SVC\n",
    "from sklearn.model_selection import GridSearchCV "
   ]
  },
  {
   "cell_type": "code",
   "execution_count": 21,
   "metadata": {},
   "outputs": [],
   "source": [
    "kernels = [\"linear\" , \"poly\", \"rbf\" , \"sigmoid\"] \n",
    "C = [1 , 10 ,100 , 1000 ]\n",
    "gamma = [1 , 0.1 , 0.01 , 0.001 ]\n",
    "kernel_accuracy = [] \n",
    "kernel_f1_score = []\n",
    "kernel_precision_score = [] \n",
    "kernel_recall_score = [] "
   ]
  },
  {
   "cell_type": "code",
   "execution_count": 22,
   "metadata": {},
   "outputs": [],
   "source": [
    "for kernel in kernels :\n",
    "    grid = GridSearchCV(estimator = SVC() , param_grid= {\"C\" : C , \"gamma\" : gamma , \"kernel\" : [kernel]}) \n",
    "    y_pred = cross_val_predict(grid , scaled_x , y , cv = 10 )\n",
    "    \n",
    "    kernel_accuracy.append(round(accuracy_score(y , y_pred) * 100  , 2 ))\n",
    "    kernel_precision_score.append( round(precision_score(y , y_pred , average ='weighted') * 100 , 2 ))\n",
    "    kernel_recall_score.append( round(recall_score(y , y_pred , average ='weighted') * 100 , 2 ))\n",
    "    kernel_f1_score.append( round(f1_score(y , y_pred , average ='weighted') * 100 , 2 ))\n",
    "        "
   ]
  },
  {
   "cell_type": "code",
   "execution_count": 23,
   "metadata": {
    "scrolled": true
   },
   "outputs": [
    {
     "data": {
      "text/html": [
       "<div>\n",
       "<style scoped>\n",
       "    .dataframe tbody tr th:only-of-type {\n",
       "        vertical-align: middle;\n",
       "    }\n",
       "\n",
       "    .dataframe tbody tr th {\n",
       "        vertical-align: top;\n",
       "    }\n",
       "\n",
       "    .dataframe thead th {\n",
       "        text-align: right;\n",
       "    }\n",
       "</style>\n",
       "<table border=\"1\" class=\"dataframe\">\n",
       "  <thead>\n",
       "    <tr style=\"text-align: right;\">\n",
       "      <th></th>\n",
       "      <th>Kernels</th>\n",
       "      <th>Accuracy score</th>\n",
       "      <th>Precision_score</th>\n",
       "      <th>Recall score</th>\n",
       "      <th>f1 score</th>\n",
       "    </tr>\n",
       "  </thead>\n",
       "  <tbody>\n",
       "    <tr>\n",
       "      <th>0</th>\n",
       "      <td>linear</td>\n",
       "      <td>97.36</td>\n",
       "      <td>97.37</td>\n",
       "      <td>97.36</td>\n",
       "      <td>97.36</td>\n",
       "    </tr>\n",
       "    <tr>\n",
       "      <th>1</th>\n",
       "      <td>poly</td>\n",
       "      <td>96.31</td>\n",
       "      <td>96.43</td>\n",
       "      <td>96.31</td>\n",
       "      <td>96.28</td>\n",
       "    </tr>\n",
       "    <tr>\n",
       "      <th>2</th>\n",
       "      <td>rbf</td>\n",
       "      <td>97.89</td>\n",
       "      <td>97.92</td>\n",
       "      <td>97.89</td>\n",
       "      <td>97.88</td>\n",
       "    </tr>\n",
       "    <tr>\n",
       "      <th>3</th>\n",
       "      <td>sigmoid</td>\n",
       "      <td>97.54</td>\n",
       "      <td>97.55</td>\n",
       "      <td>97.54</td>\n",
       "      <td>97.53</td>\n",
       "    </tr>\n",
       "  </tbody>\n",
       "</table>\n",
       "</div>"
      ],
      "text/plain": [
       "   Kernels  Accuracy score  Precision_score  Recall score  f1 score\n",
       "0   linear           97.36            97.37         97.36     97.36\n",
       "1     poly           96.31            96.43         96.31     96.28\n",
       "2      rbf           97.89            97.92         97.89     97.88\n",
       "3  sigmoid           97.54            97.55         97.54     97.53"
      ]
     },
     "execution_count": 23,
     "metadata": {},
     "output_type": "execute_result"
    }
   ],
   "source": [
    "pd.DataFrame({\"Kernels\" : kernels , \"Accuracy score\" : kernel_accuracy , \"Precision_score\" : kernel_precision_score , \n",
    "             \"Recall score\" : kernel_recall_score , \"f1 score\" : kernel_f1_score })"
   ]
  },
  {
   "cell_type": "markdown",
   "metadata": {},
   "source": [
    "# Visualization "
   ]
  },
  {
   "cell_type": "code",
   "execution_count": 24,
   "metadata": {},
   "outputs": [],
   "source": [
    "prev_kernel_accuracy = [ 96.28, 95.21, 99.47, 97.87]"
   ]
  },
  {
   "cell_type": "code",
   "execution_count": 25,
   "metadata": {},
   "outputs": [
    {
     "data": {
      "text/html": [
       "<div>\n",
       "<style scoped>\n",
       "    .dataframe tbody tr th:only-of-type {\n",
       "        vertical-align: middle;\n",
       "    }\n",
       "\n",
       "    .dataframe tbody tr th {\n",
       "        vertical-align: top;\n",
       "    }\n",
       "\n",
       "    .dataframe thead th {\n",
       "        text-align: right;\n",
       "    }\n",
       "</style>\n",
       "<table border=\"1\" class=\"dataframe\">\n",
       "  <thead>\n",
       "    <tr style=\"text-align: right;\">\n",
       "      <th></th>\n",
       "      <th>Kernels</th>\n",
       "      <th>Using CV</th>\n",
       "      <th>Without CV</th>\n",
       "    </tr>\n",
       "  </thead>\n",
       "  <tbody>\n",
       "    <tr>\n",
       "      <th>0</th>\n",
       "      <td>linear</td>\n",
       "      <td>97.36</td>\n",
       "      <td>96.28</td>\n",
       "    </tr>\n",
       "    <tr>\n",
       "      <th>1</th>\n",
       "      <td>poly</td>\n",
       "      <td>96.31</td>\n",
       "      <td>95.21</td>\n",
       "    </tr>\n",
       "    <tr>\n",
       "      <th>2</th>\n",
       "      <td>rbf</td>\n",
       "      <td>97.89</td>\n",
       "      <td>99.47</td>\n",
       "    </tr>\n",
       "    <tr>\n",
       "      <th>3</th>\n",
       "      <td>sigmoid</td>\n",
       "      <td>97.54</td>\n",
       "      <td>97.87</td>\n",
       "    </tr>\n",
       "  </tbody>\n",
       "</table>\n",
       "</div>"
      ],
      "text/plain": [
       "   Kernels  Using CV  Without CV \n",
       "0   linear     97.36        96.28\n",
       "1     poly     96.31        95.21\n",
       "2      rbf     97.89        99.47\n",
       "3  sigmoid     97.54        97.87"
      ]
     },
     "execution_count": 25,
     "metadata": {},
     "output_type": "execute_result"
    }
   ],
   "source": [
    "kernel_df = pd.DataFrame({\"Kernels\" : kernels , \"Using CV\" : kernel_accuracy , \"Without CV \" : prev_kernel_accuracy}) \n",
    "kernel_df"
   ]
  },
  {
   "cell_type": "code",
   "execution_count": 26,
   "metadata": {
    "scrolled": true
   },
   "outputs": [
    {
     "data": {
      "image/png": "[encoded data removed]",
      "text/plain": [
       "<Figure size 576x360 with 1 Axes>"
      ]
     },
     "metadata": {
      "needs_background": "light"
     },
     "output_type": "display_data"
    }
   ],
   "source": [
    "plt.figure(figsize= (8 , 5 ))\n",
    "plt.plot(kernels , prev_kernel_accuracy , marker = \"*\" , label = \"No Cross validation\")\n",
    "plt.plot(kernels , kernel_accuracy , marker = \"*\" ,  label = \"Using Cross validation\" ,  color = \"magenta\")\n",
    "plt.xticks(color = \"red\" ,fontsize = 15 , rotation = 20  )\n",
    "plt.ylabel(\"Accuracy \" , color = \"green\" , fontsize = 20)\n",
    "plt.legend() \n",
    "plt.grid(True)\n",
    "plt.savefig(\"second_ana2.png\")\n",
    "plt.show()"
   ]
  },
  {
   "cell_type": "markdown",
   "metadata": {},
   "source": [
    "# End of Second analysis"
   ]
  }
 ],
 "metadata": {
  "kernelspec": {
   "display_name": "Python 3",
   "language": "python",
   "name": "python3"
  },
  "language_info": {
   "codemirror_mode": {
    "name": "ipython",
    "version": 3
   },
   "file_extension": ".py",
   "mimetype": "text/x-python",
   "name": "python",
   "nbconvert_exporter": "python",
   "pygments_lexer": "ipython3",
   "version": "3.7.6"
  }
 },
 "nbformat": 4,
 "nbformat_minor": 2
}
